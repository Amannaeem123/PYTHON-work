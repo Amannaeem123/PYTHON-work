{
 "cells": [
  {
   "cell_type": "code",
   "execution_count": 3,
   "metadata": {},
   "outputs": [
    {
     "name": "stdout",
     "output_type": "stream",
     "text": [
      "enter your marks 45\n",
      "enter your marks 34\n",
      "enter your marks 67\n",
      "enter your marks 80\n",
      "enter your marks 34\n",
      "260\n",
      "52.0\n",
      "pass\n"
     ]
    }
   ],
   "source": [
    "sub_1 = int(input(\"enter your marks \"))\n",
    "sub_2 = int(input(\"enter your marks \"))\n",
    "sub_3 = int(input(\"enter your marks \"))\n",
    "sub_4 = int(input(\"enter your marks \"))\n",
    "sub_5 = int(input(\"enter your marks \"))\n",
    "total_marks = 500\n",
    "marks = (sub_1 + sub_2 + sub_3 + sub_4 + sub_5)\n",
    "percentage = (marks * 100) / total_marks\n",
    "print(marks)\n",
    "print(percentage)\n",
    "if percentage == 100:\n",
    "    print(\"congratulations\")\n",
    "elif percentage > 50:\n",
    "    print(\"pass\")\n",
    "else:\n",
    "    print(\"failed\")\n"
   ]
  },
  {
   "cell_type": "code",
   "execution_count": null,
   "metadata": {},
   "outputs": [],
   "source": []
  }
 ],
 "metadata": {
  "kernelspec": {
   "display_name": "Python 3",
   "language": "python",
   "name": "python3"
  },
  "language_info": {
   "codemirror_mode": {
    "name": "ipython",
    "version": 3
   },
   "file_extension": ".py",
   "mimetype": "text/x-python",
   "name": "python",
   "nbconvert_exporter": "python",
   "pygments_lexer": "ipython3",
   "version": "3.7.6"
  }
 },
 "nbformat": 4,
 "nbformat_minor": 4
}
