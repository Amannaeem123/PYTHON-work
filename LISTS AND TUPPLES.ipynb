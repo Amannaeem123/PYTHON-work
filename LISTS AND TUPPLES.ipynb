{
 "cells": [
  {
   "cell_type": "code",
   "execution_count": 13,
   "metadata": {},
   "outputs": [
    {
     "name": "stdout",
     "output_type": "stream",
     "text": [
      "rawalpindi\n"
     ]
    }
   ],
   "source": [
    "# LISTS\n",
    "cities = [\"karachi\" , \"lahore\" ,\"hyderabad\" ,\"fhjgjk\",\"rawalpindi\"]\n",
    "print(cities[4])"
   ]
  },
  {
   "cell_type": "code",
   "execution_count": 31,
   "metadata": {},
   "outputs": [
    {
     "name": "stdout",
     "output_type": "stream",
     "text": [
      "['karachi', 'new york', 'lahore', 'hyderabad', 'faisalabad', 'hgfhjgfjy']\n",
      "welcome to  new york\n",
      "welcome to  faisalabad\n"
     ]
    }
   ],
   "source": [
    "#lists\n",
    "cities = [\"karachi\" , \"lahore\" ,\"hyderabad\"]\n",
    "#append\n",
    "cities.append(\"faisalabad\")\n",
    "cities.append(\"hgfhjgfjy\")\n",
    "#insert\n",
    "cities.insert(1 ,\"new york\")\n",
    "#print\n",
    "print(cities)\n",
    "print(\"welcome to \" , cities[1])\n",
    "print(\"welcome to \" , cities[4])\n"
   ]
  },
  {
   "cell_type": "code",
   "execution_count": 28,
   "metadata": {},
   "outputs": [
    {
     "name": "stdout",
     "output_type": "stream",
     "text": [
      "['karachi', 'lahore', 'sawat', 'pakistan', 'abafaisald']\n"
     ]
    }
   ],
   "source": [
    "cities = (\"karachi\" , \"lahore\" ,\"hyderabad\")\n",
    "cities.append(\"abafaisald\")\n",
    "cities.insert(2 ,\"sawat\")\n",
    "cities.insert(0 , \"afghanistan\")\n",
    "cities.insert(5 , \"pakistan\")\n",
    "del cities[0]\n",
    "cities.remove(\"hyderabad\")\n",
    "print(cities)"
   ]
  },
  {
   "cell_type": "code",
   "execution_count": 30,
   "metadata": {},
   "outputs": [
    {
     "name": "stdout",
     "output_type": "stream",
     "text": [
      "('aman', 'kashif', 'hamza')\n",
      "congratulations sir  kashif\n"
     ]
    }
   ],
   "source": [
    "all_names = (\"aman\" , \"kashif\" ,\"hamza\")\n",
    "print(all_names)\n",
    "print(\"congratulations sir \" , all_names[1])"
   ]
  },
  {
   "cell_type": "code",
   "execution_count": null,
   "metadata": {},
   "outputs": [],
   "source": [
    "#dgfhjgjkyhkijujujujuioop;io;ki hjgtuikyiouiopopio;\n",
    "'''fghfhfhgjhjhjkh\n",
    "yhujhyuiyuiyui\n",
    "hjyuihyiyi\n",
    "jkhyj'''"
   ]
  }
 ],
 "metadata": {
  "kernelspec": {
   "display_name": "Python 3",
   "language": "python",
   "name": "python3"
  },
  "language_info": {
   "codemirror_mode": {
    "name": "ipython",
    "version": 3
   },
   "file_extension": ".py",
   "mimetype": "text/x-python",
   "name": "python",
   "nbconvert_exporter": "python",
   "pygments_lexer": "ipython3",
   "version": "3.7.6"
  }
 },
 "nbformat": 4,
 "nbformat_minor": 4
}
