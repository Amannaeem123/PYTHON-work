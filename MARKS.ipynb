{
 "cells": [
  {
   "cell_type": "code",
   "execution_count": 2,
   "metadata": {},
   "outputs": [
    {
     "name": "stdout",
     "output_type": "stream",
     "text": [
      "enter your marks56\n",
      "enter your marks45\n",
      "enter your marks78\n",
      "59.666666666666664\n"
     ]
    }
   ],
   "source": [
    "# marks\n"
   ]
  },
  {
   "cell_type": "code",
   "execution_count": 4,
   "metadata": {},
   "outputs": [
    {
     "name": "stdout",
     "output_type": "stream",
     "text": [
      "enter your marks45\n",
      "enter your marks56\n",
      "enter your marks67\n",
      "56.0\n"
     ]
    }
   ],
   "source": [
    "\n",
    "x = int(input(\"enter your marks\"))\n",
    "y = int(input(\"enter your marks\"))\n",
    "z = int(input(\"enter your marks\"))\n",
    "average = (x + y + z) / 3\n",
    "print(average)\n",
    "\n",
    "    "
   ]
  },
  {
   "cell_type": "code",
   "execution_count": 1,
   "metadata": {},
   "outputs": [
    {
     "name": "stdout",
     "output_type": "stream",
     "text": [
      "enter your average45\n",
      "enter your marks56\n",
      "enter your sub45\n",
      "48.666666666666664\n",
      "failed\n"
     ]
    }
   ],
   "source": [
    "average = int(input(\"enter your average\"))\n",
    "marks = int(input(\"enter your marks\"))\n",
    "sub = int(input(\"enter your sub\"))\n",
    "x = (average + marks + sub) / 3\n",
    "y = (average * marks * sub) / 4\n",
    "print(x)\n",
    "if x > 100 :\n",
    "    print(\"congratulations\")\n",
    "elif x == 100 :\n",
    "    print(\"right\")\n",
    "else:\n",
    "    print(\"failed\")\n"
   ]
  },
  {
   "cell_type": "code",
   "execution_count": null,
   "metadata": {},
   "outputs": [],
   "source": []
  }
 ],
 "metadata": {
  "kernelspec": {
   "display_name": "Python 3",
   "language": "python",
   "name": "python3"
  },
  "language_info": {
   "codemirror_mode": {
    "name": "ipython",
    "version": 3
   },
   "file_extension": ".py",
   "mimetype": "text/x-python",
   "name": "python",
   "nbconvert_exporter": "python",
   "pygments_lexer": "ipython3",
   "version": "3.7.6"
  }
 },
 "nbformat": 4,
 "nbformat_minor": 4
}
