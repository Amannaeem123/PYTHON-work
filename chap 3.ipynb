{
 "cells": [
  {
   "cell_type": "code",
   "execution_count": 3,
   "metadata": {},
   "outputs": [
    {
     "ename": "SyntaxError",
     "evalue": "invalid syntax (<ipython-input-3-f43888b00e41>, line 2)",
     "output_type": "error",
     "traceback": [
      "\u001b[1;36m  File \u001b[1;32m\"<ipython-input-3-f43888b00e41>\"\u001b[1;36m, line \u001b[1;32m2\u001b[0m\n\u001b[1;33m    for = 18\u001b[0m\n\u001b[1;37m        ^\u001b[0m\n\u001b[1;31mSyntaxError\u001b[0m\u001b[1;31m:\u001b[0m invalid syntax\n"
     ]
    }
   ],
   "source": [
    "#CHAPTER \"VARIABLE FOR NUMBERS\"\n",
    "for = 18\n",
    "total_age = for * 12\n",
    "print(total_age)"
   ]
  },
  {
   "cell_type": "code",
   "execution_count": 3,
   "metadata": {},
   "outputs": [
    {
     "name": "stdout",
     "output_type": "stream",
     "text": [
      "7.7242200751499e-11\n",
      "22972896.05860806\n"
     ]
    }
   ],
   "source": [
    "x = 23\n",
    "y = 545356576\n",
    "z = 546\n",
    "a = x / y / z\n",
    "print(a)\n",
    "print(a + x * y / z)"
   ]
  },
  {
   "cell_type": "code",
   "execution_count": 2,
   "metadata": {},
   "outputs": [
    {
     "name": "stdout",
     "output_type": "stream",
     "text": [
      "23\n",
      "15071.16146788991\n"
     ]
    }
   ],
   "source": [
    "x = 23\n",
    "y = 545\n",
    "z = 356576\n",
    "c = x % y % z \n",
    "print(c)\n",
    "print(x / y * z + c)\n"
   ]
  },
  {
   "cell_type": "code",
   "execution_count": 7,
   "metadata": {},
   "outputs": [
    {
     "name": "stdout",
     "output_type": "stream",
     "text": [
      "435676897899089055678689789790\n"
     ]
    }
   ],
   "source": [
    "x = \"4356768978990890\"\n",
    "y = \"55678689789790\"\n",
    "print(x + y)"
   ]
  },
  {
   "cell_type": "code",
   "execution_count": null,
   "metadata": {},
   "outputs": [],
   "source": []
  }
 ],
 "metadata": {
  "kernelspec": {
   "display_name": "Python 3",
   "language": "python",
   "name": "python3"
  },
  "language_info": {
   "codemirror_mode": {
    "name": "ipython",
    "version": 3
   },
   "file_extension": ".py",
   "mimetype": "text/x-python",
   "name": "python",
   "nbconvert_exporter": "python",
   "pygments_lexer": "ipython3",
   "version": "3.7.6"
  }
 },
 "nbformat": 4,
 "nbformat_minor": 4
}
