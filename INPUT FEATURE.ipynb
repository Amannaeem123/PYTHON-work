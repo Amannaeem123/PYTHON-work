{
 "cells": [
  {
   "cell_type": "code",
   "execution_count": 1,
   "metadata": {},
   "outputs": [
    {
     "name": "stdout",
     "output_type": "stream",
     "text": [
      "ENTER YOUR HIGHEST SCORE 100\n",
      "ENTER YOUR MARKS 10\n",
      "ENTER YOUR MARKS 20\n",
      "ENTER YOUR MARKS 30\n",
      "ENTER YOUR MARKS 40\n",
      "ENTER YOUR MARKS 50\n",
      "YOUR SCORE IS 30.0\n"
     ]
    }
   ],
   "source": [
    "high_score = int(input(\"ENTER YOUR HIGHEST SCORE \"))\n",
    "sub1 = int(input(\"ENTER YOUR MARKS \"))\n",
    "sub2 = int(input(\"ENTER YOUR MARKS \"))\n",
    "sub3 = int(input(\"ENTER YOUR MARKS \"))\n",
    "sub4 = int(input(\"ENTER YOUR MARKS \"))\n",
    "sub5 = int(input(\"ENTER YOUR MARKS \"))\n",
    "average = ( sub1 + sub2 + sub3 + sub4 + sub5) / 5\n",
    "print(\"YOUR SCORE IS\" ,average)"
   ]
  },
  {
   "cell_type": "code",
   "execution_count": null,
   "metadata": {},
   "outputs": [],
   "source": []
  }
 ],
 "metadata": {
  "kernelspec": {
   "display_name": "Python 3",
   "language": "python",
   "name": "python3"
  },
  "language_info": {
   "codemirror_mode": {
    "name": "ipython",
    "version": 3
   },
   "file_extension": ".py",
   "mimetype": "text/x-python",
   "name": "python",
   "nbconvert_exporter": "python",
   "pygments_lexer": "ipython3",
   "version": "3.7.6"
  }
 },
 "nbformat": 4,
 "nbformat_minor": 4
}
