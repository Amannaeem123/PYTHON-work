{
 "cells": [
  {
   "cell_type": "code",
   "execution_count": 4,
   "metadata": {},
   "outputs": [
    {
     "name": "stdout",
     "output_type": "stream",
     "text": [
      "enter your average56\n",
      "enter your marks76\n",
      "enter your sub76\n",
      "107818.66666666667\n",
      "right\n"
     ]
    }
   ],
   "source": [
    "aman = int(input(\"enter your average\"))\n",
    "hammad = int(input(\"enter your marks\"))\n",
    "talha = int(input(\"enter your sub\"))\n",
    "last = (aman * hammad * talha) / 3\n",
    "print(last)\n",
    "if last != 100:\n",
    "    print(\"right\")\n",
    "elif last == 100:    \n",
    "    print(\"wrong\")\n",
    "else:\n",
    "    print(\"failed\")"
   ]
  },
  {
   "cell_type": "code",
   "execution_count": 5,
   "metadata": {},
   "outputs": [],
   "source": [
    "# > < >= <= != += ==\n"
   ]
  },
  {
   "cell_type": "code",
   "execution_count": 5,
   "metadata": {},
   "outputs": [
    {
     "name": "stdout",
     "output_type": "stream",
     "text": [
      "ENTER YOUR NUMBER 57\n",
      "14\n",
      "young man\n"
     ]
    }
   ],
   "source": [
    "age = 14\n",
    "age %= 456768\n",
    "x = int(input(\"ENTER YOUR NUMBER \"))\n",
    "print(age)\n",
    "if age < x:\n",
    "    print(\"young man\")\n",
    "else:\n",
    "    print(\"old man\")"
   ]
  },
  {
   "cell_type": "code",
   "execution_count": null,
   "metadata": {},
   "outputs": [],
   "source": []
  },
  {
   "cell_type": "code",
   "execution_count": null,
   "metadata": {},
   "outputs": [],
   "source": []
  }
 ],
 "metadata": {
  "kernelspec": {
   "display_name": "Python 3",
   "language": "python",
   "name": "python3"
  },
  "language_info": {
   "codemirror_mode": {
    "name": "ipython",
    "version": 3
   },
   "file_extension": ".py",
   "mimetype": "text/x-python",
   "name": "python",
   "nbconvert_exporter": "python",
   "pygments_lexer": "ipython3",
   "version": "3.7.6"
  }
 },
 "nbformat": 4,
 "nbformat_minor": 4
}
