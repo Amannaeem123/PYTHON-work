{
 "cells": [
  {
   "cell_type": "code",
   "execution_count": 1,
   "metadata": {},
   "outputs": [
    {
     "name": "stdout",
     "output_type": "stream",
     "text": [
      "ENTER THE NAME DOG\n",
      "Nope, not cat.\n"
     ]
    }
   ],
   "source": [
    "#CHAPTER ELSE STATEMENT\n",
    "species = input(\"ENTER THE NAME \")\n",
    "if species == \"cat\":\n",
    " print(\"Yep, it's cat.\")\n",
    "else:\n",
    " print(\"Nope, not cat.\")"
   ]
  },
  {
   "cell_type": "code",
   "execution_count": 5,
   "metadata": {},
   "outputs": [
    {
     "name": "stdout",
     "output_type": "stream",
     "text": [
      "ENTER YOUR MARKS 40\n",
      "SORRY! YOU ARE FAILED\n"
     ]
    }
   ],
   "source": [
    "marks = int(input(\"ENTER YOUR MARKS \"))\n",
    "if marks >= 90:\n",
    "    print(\"CONGRATULATIONS\")\n",
    "else:\n",
    "    print(\"SORRY! YOU ARE FAILED\")\n"
   ]
  },
  {
   "cell_type": "code",
   "execution_count": null,
   "metadata": {},
   "outputs": [],
   "source": []
  }
 ],
 "metadata": {
  "kernelspec": {
   "display_name": "Python 3",
   "language": "python",
   "name": "python3"
  },
  "language_info": {
   "codemirror_mode": {
    "name": "ipython",
    "version": 3
   },
   "file_extension": ".py",
   "mimetype": "text/x-python",
   "name": "python",
   "nbconvert_exporter": "python",
   "pygments_lexer": "ipython3",
   "version": "3.7.6"
  }
 },
 "nbformat": 4,
 "nbformat_minor": 4
}
